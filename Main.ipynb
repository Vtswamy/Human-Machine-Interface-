{
 "cells": [
  {
   "cell_type": "code",
   "id": "initial_id",
   "metadata": {
    "collapsed": true,
    "ExecuteTime": {
     "end_time": "2025-08-11T03:45:41.289958Z",
     "start_time": "2025-08-11T03:45:39.060Z"
    }
   },
   "source": [
    "import cv2\n",
    "import mediapipe as mp\n",
    "import pyautogui\n"
   ],
   "outputs": [],
   "execution_count": 3
  },
  {
   "metadata": {
    "ExecuteTime": {
     "end_time": "2025-08-11T03:46:54.355695Z",
     "start_time": "2025-08-11T03:46:46.531792Z"
    }
   },
   "cell_type": "code",
   "source": [
    "cap = cv2.VideoCapture(0)\n",
    "mp_hands = mp.solutions.hands\n",
    "hands = mp_hands.Hands()\n",
    "mp_draw = mp.solutions.drawing_utils\n",
    "screen_width, screen_height = pyautogui.size()"
   ],
   "id": "7da10c61574ce6fa",
   "outputs": [],
   "execution_count": 9
  },
  {
   "metadata": {
    "ExecuteTime": {
     "end_time": "2025-08-11T03:54:15.982605Z",
     "start_time": "2025-08-11T03:51:55.934249Z"
    }
   },
   "cell_type": "code",
   "source": [
    "while True:\n",
    "    _, img = cap.read()\n",
    "    img = cv2.flip(img, 1)\n",
    "    img_rgb = cv2.cvtColor(img, cv2.COLOR_BGR2RGB)\n",
    "    results = hands.process(img_rgb)\n",
    "\n",
    "    img_height, img_width, _ = img.shape\n",
    "\n",
    "    if results.multi_hand_landmarks:\n",
    "        for hand_landmarks in results.multi_hand_landmarks:\n",
    "            lm_list = []\n",
    "            for id, lm in enumerate(hand_landmarks.landmark):\n",
    "                x, y = int(lm.x * img_width), int(lm.y * img_height)\n",
    "                lm_list.append((id, x, y))\n",
    "                # Mark thumb tip and index finger tip\n",
    "                if id == 8 or id == 4:\n",
    "                    cv2.circle(img, (x, y), 10, (0, 255, 255), cv2.FILLED)\n",
    "\n",
    "            mp_draw.draw_landmarks(img, hand_landmarks, mp_hands.HAND_CONNECTIONS)\n",
    "\n",
    "            # Move mouse with index finger\n",
    "            x_index, y_index = lm_list[8][1], lm_list[8][2]\n",
    "            mouse_x = int(screen_width / img_width * x_index)\n",
    "            mouse_y = int(screen_height / img_height * y_index)\n",
    "            pyautogui.moveTo(mouse_x, mouse_y)\n",
    "\n",
    "            # Detect distance between index finger tip and thumb tip for click\n",
    "            x_thumb, y_thumb = lm_list[4][1], lm_list[4][2]\n",
    "            distance = ((x_thumb - x_index) ** 2 + (y_thumb - y_index) ** 2) ** 0.5\n",
    "            if distance < 20:\n",
    "                pyautogui.click()\n",
    "\n",
    "    cv2.imshow(\"Hand Mouse Control\", img)\n",
    "    if cv2.waitKey(1) & 0xFF == 27:\n",
    "        break\n",
    "    \n",
    "cap.release()\n",
    "cv2.destroyAllWindows()"
   ],
   "id": "de03c5b49ef43bcb",
   "outputs": [],
   "execution_count": 11
  }
 ],
 "metadata": {
  "kernelspec": {
   "display_name": "Python 3",
   "language": "python",
   "name": "python3"
  },
  "language_info": {
   "codemirror_mode": {
    "name": "ipython",
    "version": 2
   },
   "file_extension": ".py",
   "mimetype": "text/x-python",
   "name": "python",
   "nbconvert_exporter": "python",
   "pygments_lexer": "ipython2",
   "version": "2.7.6"
  }
 },
 "nbformat": 4,
 "nbformat_minor": 5
}
